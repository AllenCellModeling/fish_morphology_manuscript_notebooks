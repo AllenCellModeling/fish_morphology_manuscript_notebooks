{
 "cells": [
  {
   "cell_type": "markdown",
   "metadata": {},
   "source": [
    "# Unfiltered cells / rewrite of COS + fig generation"
   ]
  },
  {
   "cell_type": "code",
   "execution_count": null,
   "metadata": {},
   "outputs": [],
   "source": [
    "from pathlib import Path\n",
    "import warnings\n",
    "\n",
    "import numpy as np\n",
    "import pandas as pd\n",
    "import pingouin as pg\n",
    "from scipy.stats import spearmanr\n",
    "from sklearn.metrics import confusion_matrix\n",
    "\n",
    "import matplotlib.pyplot as plt\n",
    "import seaborn as sns\n",
    "%matplotlib inline\n",
    "\n",
    "import quilt3\n",
    "\n",
    "from fish_morphology_code.analysis.notebook_utils import (\n",
    "    DAY_18_COLOR,\n",
    "    DAY_32_COLOR,\n",
    "    DAY_COLOR_PALETTE,\n",
    "    DAY_COLOR_PALETTE_THREE,\n",
    "    BAR_PLOT_COLUMNS,\n",
    "    SHORT_FEAT_NAME_MAP,\n",
    "    BAR_PLOT_COLUMNS_SHORT,\n",
    "    PROBE_ORDER,\n",
    "    CI_EXTENT,\n",
    "    FEATURE_TYPE_MAP,\n",
    "    safe,\n",
    "    get_regression_coef,\n",
    "    boot_regression,\n",
    "    ci_low,\n",
    "    ci_high,\n",
    "    make_reg_plot_ci_df,\n",
    "    make_regression_bar_plot,\n",
    "    get_pred_true,\n",
    "    make_regression_scatter_plot,\n",
    "    boot_spearmanr,\n",
    ")"
   ]
  },
  {
   "cell_type": "code",
   "execution_count": null,
   "metadata": {},
   "outputs": [],
   "source": [
    "SAVE=True\n",
    "\n",
    "if SAVE:\n",
    "    SAVE_DIR = Path(\"./plots_nofilter\")\n",
    "    SAVE_DIR.mkdir(parents=True, exist_ok=True)\n",
    "\n",
    "    save_dir_pngs = SAVE_DIR/\"pngs\"\n",
    "    save_dir_svgs = SAVE_DIR/\"svgs\"\n",
    "    save_dir_pngs.mkdir(parents=True, exist_ok=True)\n",
    "    save_dir_svgs.mkdir(parents=True, exist_ok=True)"
   ]
  },
  {
   "cell_type": "markdown",
   "metadata": {},
   "source": [
    "## Load data"
   ]
  },
  {
   "cell_type": "markdown",
   "metadata": {},
   "source": [
    "### New fish data from tanya"
   ]
  },
  {
   "cell_type": "code",
   "execution_count": null,
   "metadata": {},
   "outputs": [],
   "source": [
    "df_plates = pd.read_csv(\"../paper_fish_plates_20201027.csv\", skipfooter=1)\n",
    "df_plates[\"Plate Name\"] = df_plates[\"Plate Name\"].astype(int)\n",
    "df_plates = df_plates.rename(columns={\"Plate Name\":\"plate_name\", \"Replate Date\":\"replate_date\"})\n",
    "df_plates"
   ]
  },
  {
   "cell_type": "code",
   "execution_count": null,
   "metadata": {},
   "outputs": [],
   "source": [
    "df_fish_old_new_full = pd.read_csv(\n",
    "    \"/Users/rorydm/projects/fish_morphology_manuscript_notebooks/fish_all_features_20201013.csv\",\n",
    "    low_memory=False,\n",
    ")\n",
    "\n",
    "df_fish_old_new_full\n",
    "df_fish_old_new_full.napariCell_ObjectNumber = df_fish_old_new_full.napariCell_ObjectNumber.astype(int).astype(str)\n",
    "df_fish_old_new_full[\"Type\"] = \"FISH\""
   ]
  },
  {
   "cell_type": "markdown",
   "metadata": {},
   "source": [
    "### ACTN2 fish data from quilt"
   ]
  },
  {
   "cell_type": "code",
   "execution_count": null,
   "metadata": {},
   "outputs": [],
   "source": [
    "p_fish_actn2 = quilt3.Package.browse(\n",
    "    \"tanyasg/2d_autocontrasted_single_cell_features_actn2\",\n",
    "    registry=\"s3://allencell-internal-quilt\"\n",
    ")\n",
    "\n",
    "df_fish_actn2_full = p_fish_actn2[\"features/5a192f08_cp_features.csv\"]()\n",
    "df_fish_actn2_full[\"Dataset\"] = \"ACTN_OldFish\""
   ]
  },
  {
   "cell_type": "code",
   "execution_count": null,
   "metadata": {},
   "outputs": [],
   "source": [
    "p_fish_actn2_2 = quilt3.Package.browse(\n",
    "    \"tanyasg/2d_autocontrasted_single_cell_features_actn2_2\",\n",
    "    registry=\"s3://allencell-internal-quilt\"\n",
    ")\n",
    "\n",
    "df_fish_actn2_2_full = p_fish_actn2_2[\"features/e1c7dd15_cp_features.csv\"]()\n",
    "df_fish_actn2_2_full[\"Dataset\"] = \"ACTN_NewFish\""
   ]
  },
  {
   "cell_type": "code",
   "execution_count": null,
   "metadata": {},
   "outputs": [],
   "source": [
    "df_fish_actn2_both_full = pd.concat([df_fish_actn2_full, df_fish_actn2_2_full]).reset_index(drop=True)\n",
    "df_fish_actn2_both_full.napariCell_ObjectNumber = df_fish_actn2_both_full.napariCell_ObjectNumber.astype(int).astype(str)\n",
    "\n",
    "df_fish_actn2_both_full = df_fish_actn2_both_full.merge(df_plates[[\"plate_name\", \"replate_date\"]])\n",
    "df_fish_actn2_both_full[\"Type\"] = \"FISH\"\n",
    "df_fish_actn2_both_full[\"ge_wellID\"] = df_fish_actn2_both_full.plate_name.astype(str) + \"-\" + df_fish_actn2_both_full.well_position.astype(str)"
   ]
  },
  {
   "cell_type": "markdown",
   "metadata": {},
   "source": [
    "### ACTN2 struct scores"
   ]
  },
  {
   "cell_type": "code",
   "execution_count": null,
   "metadata": {},
   "outputs": [],
   "source": [
    "p_struct_scores_actn2 = quilt3.Package.browse(\n",
    "    \"tanyasg/struct_scores_actn2\",\n",
    "    registry=\"s3://allencell-internal-quilt\"\n",
    ")\n",
    "\n",
    "df_struct_scores_actn2 = p_struct_scores_actn2[\"metadata.csv\"]()\n",
    "df_struct_scores_actn2 = df_struct_scores_actn2.rename(columns={\"original_fov_location\":\"fov_path\"})\n",
    "df_struct_scores_actn2.napariCell_ObjectNumber = df_struct_scores_actn2.napariCell_ObjectNumber.astype(int).astype(str)\n",
    "df_struct_scores_actn2 = df_struct_scores_actn2.drop(columns=[\"Age\"])"
   ]
  },
  {
   "cell_type": "markdown",
   "metadata": {},
   "source": [
    "### merge fish with live classifier stuff"
   ]
  },
  {
   "cell_type": "code",
   "execution_count": null,
   "metadata": {},
   "outputs": [],
   "source": [
    "df_actn2 = df_fish_actn2_both_full.merge(df_struct_scores_actn2)\n",
    "df_actn2.shape"
   ]
  },
  {
   "cell_type": "markdown",
   "metadata": {},
   "source": [
    "## combine old/new fish + classifier with actn2 fish + classifier"
   ]
  },
  {
   "cell_type": "code",
   "execution_count": null,
   "metadata": {},
   "outputs": [],
   "source": [
    "df_fish_all = pd.concat(\n",
    "    [\n",
    "        df_fish_old_new_full,\n",
    "        df_actn2\n",
    "    ]\n",
    ").reset_index(drop=True)\n",
    "\n",
    "feature_columns_in = [\n",
    "    \"napariCell_AreaShape_Area\",\n",
    "    \"napariCell_AreaShape_MinorAxisLength\",\n",
    "    \"napariCell_AreaShape_MajorAxisLength\",\n",
    "    'Frac_Area_Background',\n",
    "    'Frac_Area_DiffuseOthers',\n",
    "    'Frac_Area_Fibers',\n",
    "    'Frac_Area_Disorganized_Puncta',\n",
    "    'Frac_Area_Organized_Puncta',\n",
    "    'Frac_Area_Organized_ZDisks',\n",
    "    'Maximum_Coefficient_Variation',\n",
    "    'Peak_Height',\n",
    "    'Peak_Distance',\n",
    "]\n",
    "metadata_cols_in = [\n",
    "    \"Dataset\",\n",
    "    \"napariCell_ObjectNumber\",\n",
    "    \"fov_path\",\n",
    "    \"cell_age\",\n",
    "    'replate_date',\n",
    "    \"image_date\",\n",
    "    \"plate_name\",\n",
    "    \"well_position\",\n",
    "    \"ge_wellID\",\n",
    "    \"mh_structure_org_score\",\n",
    "    \"kg_structure_org_score\",\n",
    "    \"MH_score\",\n",
    "    \"KG_score\",\n",
    "    \"Type\",\n",
    "    'probe546',\n",
    "    'probe647',\n",
    "    \"napariCell_Children_seg_probe_561_Count\",\n",
    "    \"napariCell_Children_seg_probe_638_Count\",\n",
    "    'IntensitySumIntegrated',\n",
    "    'IntensitySumIntegratedBkgSub',\n",
    "]\n",
    "\n",
    "df_fish_all = df_fish_all[metadata_cols_in+feature_columns_in]\n",
    "\n",
    "for i, row in df_fish_all.dropna(subset=[\"MH_score\",\"KG_score\"]).iterrows():\n",
    "    df_fish_all.at[i,\"mh_structure_org_score\"] = row[\"MH_score\"]\n",
    "    df_fish_all.at[i,\"kg_structure_org_score\"] = row[\"KG_score\"]\n",
    "df_fish_all = df_fish_all.drop(columns=[\"MH_score\",\"KG_score\"])\n",
    "\n",
    "df_fish_all[\"Cell aspect ratio\"] = (\n",
    "    df_fish_all[\"napariCell_AreaShape_MinorAxisLength\"]\n",
    "    / df_fish_all[\"napariCell_AreaShape_MajorAxisLength\"]\n",
    ")\n",
    "df_fish_all = df_fish_all.drop(\n",
    "    columns=[\"napariCell_AreaShape_MinorAxisLength\", \"napariCell_AreaShape_MajorAxisLength\"]\n",
    ")\n",
    "\n",
    "metadata_cols_out = [c for c in metadata_cols_in if c not in [\"MH_score\", \"KG_score\"]]\n",
    "feature_columns_out = [c for c in df_fish_all.columns if c not in metadata_cols_out]"
   ]
  },
  {
   "cell_type": "code",
   "execution_count": null,
   "metadata": {},
   "outputs": [],
   "source": [
    "for col in [\"probe546\", \"probe647\"]:\n",
    "    df_fish_all[col] = df_fish_all[col].apply(lambda x: x.split(\"-\")[0])"
   ]
  },
  {
   "cell_type": "code",
   "execution_count": null,
   "metadata": {},
   "outputs": [],
   "source": [
    "df_fish_all = df_fish_all.rename(\n",
    "    columns={\n",
    "        'IntensitySumIntegrated': \"alpha-actinin protein intensity (sum)\",\n",
    "        'IntensitySumIntegratedBkgSub': \"alpha-actinin protein intensity (sum, background subtracted)\",\n",
    "    }\n",
    ")"
   ]
  },
  {
   "cell_type": "code",
   "execution_count": null,
   "metadata": {},
   "outputs": [],
   "source": [
    "n_valid_fishes_in = (~df_fish_all[[\"probe546\",\"probe647\"]].isnull()).sum().sum()\n",
    "n_valid_fishes_in"
   ]
  },
  {
   "cell_type": "code",
   "execution_count": null,
   "metadata": {},
   "outputs": [],
   "source": [
    "def unmelt_probes(arg_df):\n",
    "    \n",
    "    out_df = arg_df.copy()\n",
    "    \n",
    "    for probe in np.unique(out_df[[\"probe546\", \"probe647\"]].dropna().values):\n",
    "        out_df[f\"{probe}_count\"] = np.nan\n",
    "    \n",
    "    for i, row in out_df.iterrows():\n",
    "        probe546 = row[\"probe546\"]\n",
    "        probe647 = row[\"probe647\"]\n",
    "        out_df.at[i, f\"{probe546}_count\"] = row[\"napariCell_Children_seg_probe_561_Count\"]\n",
    "        out_df.at[i, f\"{probe647}_count\"] = row[\"napariCell_Children_seg_probe_638_Count\"]\n",
    "\n",
    "    out_df = out_df.drop(\n",
    "        [\n",
    "            \"probe546\",\n",
    "            \"probe647\",\n",
    "            \"napariCell_Children_seg_probe_561_Count\",\n",
    "            \"napariCell_Children_seg_probe_638_Count\",\n",
    "        ],\n",
    "        axis=\"columns\"\n",
    "    )\n",
    "    \n",
    "    return out_df"
   ]
  },
  {
   "cell_type": "markdown",
   "metadata": {},
   "source": [
    "## give all probe counts their own columns"
   ]
  },
  {
   "cell_type": "code",
   "execution_count": null,
   "metadata": {},
   "outputs": [],
   "source": [
    "df_fish_all = unmelt_probes(df_fish_all)\n",
    "df_fish_all.shape"
   ]
  },
  {
   "cell_type": "code",
   "execution_count": null,
   "metadata": {},
   "outputs": [],
   "source": [
    "n_valid_fishes_out = (~df_fish_all[[c for c in df_fish_all.columns if c.endswith(\"_count\")]].isnull()).sum().sum()\n",
    "n_valid_fishes_out"
   ]
  },
  {
   "cell_type": "code",
   "execution_count": null,
   "metadata": {},
   "outputs": [],
   "source": [
    "assert n_valid_fishes_out == n_valid_fishes_in"
   ]
  },
  {
   "cell_type": "markdown",
   "metadata": {},
   "source": [
    "## move to density rather than counts"
   ]
  },
  {
   "cell_type": "code",
   "execution_count": null,
   "metadata": {},
   "outputs": [],
   "source": [
    "count_cols = [c for c in df_fish_all.columns if c.endswith(\"count\")]\n",
    "\n",
    "for count_col in count_cols:\n",
    "    probe = count_col.split(\"_\")[0]\n",
    "    density_col = f\"{probe}_density\"\n",
    "    df_fish_all[density_col] = df_fish_all[count_col]/df_fish_all.napariCell_AreaShape_Area\n",
    "    \n",
    "df_fish_all = df_fish_all.drop(columns=count_cols)"
   ]
  },
  {
   "cell_type": "code",
   "execution_count": null,
   "metadata": {},
   "outputs": [],
   "source": [
    "df_fish_all.isnull().mean()"
   ]
  },
  {
   "cell_type": "markdown",
   "metadata": {},
   "source": [
    "## Live cell data from tanya"
   ]
  },
  {
   "cell_type": "code",
   "execution_count": null,
   "metadata": {},
   "outputs": [],
   "source": [
    "df_live = pd.read_csv(\"../classifier_features_metadata_20201028.csv\")\n",
    "\n",
    "live2fish_rename_dict = {\n",
    "    'diffuse_fraction_area_covered': 'Frac_Area_DiffuseOthers',\n",
    "    'fibers_fraction_area_covered': 'Frac_Area_Fibers',\n",
    "    'disorganized_puncta_fraction_area_covered': 'Frac_Area_Disorganized_Puncta',\n",
    "    'organized_puncta_fraction_area_covered': 'Frac_Area_Organized_Puncta',\n",
    "    'organized_z_disk_fraction_area_covered': 'Frac_Area_Organized_ZDisks',\n",
    "    'Aspect_Ratio': 'Cell aspect ratio',\n",
    "    'Area':'napariCell_AreaShape_Area',\n",
    "    'MH_score':'mh_structure_org_score',\n",
    "    'KG_score':'kg_structure_org_score',\n",
    "    'Cell age': 'cell_age',\n",
    "    'FOV path': 'fov_path',\n",
    "    'cell_id':'napariCell_ObjectNumber',\n",
    "    'full_cell_total_sum_intensity':\"alpha-actinin protein intensity (sum)\",\n",
    "    'full_cell_total_sum_intensity_bg_subtracted':\"alpha-actinin protein intensity (sum, background subtracted)\",\n",
    "}\n",
    "\n",
    "df_live = df_live.rename(\n",
    "    columns=live2fish_rename_dict\n",
    ")\n",
    "\n",
    "# fill nans in feature cols with zeros????\n",
    "df_live[feature_columns_out] = df_live[feature_columns_out].fillna(0)\n",
    "\n",
    "df_live[\"ge_wellID\"] = df_live.plate_name.astype(str) + \"-\" + df_live.well_position.astype(str)\n",
    "df_live[\"Dataset\"] = \"Live\"\n",
    "df_live[\"Type\"] = \"Live\""
   ]
  },
  {
   "cell_type": "markdown",
   "metadata": {},
   "source": [
    "### Combine FISH + Live"
   ]
  },
  {
   "cell_type": "code",
   "execution_count": null,
   "metadata": {},
   "outputs": [],
   "source": [
    "df = pd.concat(\n",
    "    [\n",
    "        df_fish_all,\n",
    "        df_live[[c for c in df_live.columns if c in df_fish_all.columns]],\n",
    "    ]\n",
    ").reset_index(drop=True)\n",
    "\n",
    "# fix units on length / area cols\n",
    "pixel_size_xy_in_micrometers=0.12\n",
    "df[\"napariCell_AreaShape_Area\"] = df[\"napariCell_AreaShape_Area\"] * pixel_size_xy_in_micrometers**2\n",
    "df[\"Peak_Distance\"] = df[\"Peak_Distance\"] * pixel_size_xy_in_micrometers\n",
    "\n",
    "density_cols = [c for c in df.columns if c.endswith(\"_density\")]\n",
    "for col in density_cols:\n",
    "    df[col] = df[col] / pixel_size_xy_in_micrometers**2"
   ]
  },
  {
   "cell_type": "code",
   "execution_count": null,
   "metadata": {},
   "outputs": [],
   "source": [
    "df = df.rename(\n",
    "    columns={\n",
    "        \"napariCell_AreaShape_Area\": 'Cell area (μm^2)',\n",
    "        \"Frac_Area_Background\": 'Fraction cell area background',\n",
    "        \"Frac_Area_DiffuseOthers\": 'Fraction cell area diffuse/other',\n",
    "        \"Frac_Area_Fibers\": 'Fraction cell area fibers',\n",
    "        \"Frac_Area_Disorganized_Puncta\": 'Fraction cell area disorganized puncta',\n",
    "        \"Frac_Area_Organized_Puncta\": 'Fraction cell area organized puncta',\n",
    "        \"Frac_Area_Organized_ZDisks\": 'Fraction cell area organized z-disks',\n",
    "        \"Maximum_Coefficient_Variation\": 'Max coefficient var',\n",
    "        \"Peak_Height\": 'Peak height',\n",
    "        \"Peak_Distance\": 'Peak distance (μm)',\n",
    "        \"cell_age\": \"Cell age\",\n",
    "        **{col: f\"{col.split('_')[0]} (count/μm^2)\"for col in density_cols}\n",
    "    }\n",
    ")"
   ]
  },
  {
   "cell_type": "code",
   "execution_count": null,
   "metadata": {},
   "outputs": [],
   "source": [
    "df['Expert structural annotation score (mean)'] = df[\n",
    "    [\n",
    "        \"mh_structure_org_score\",\n",
    "        \"kg_structure_org_score\"\n",
    "    ]\n",
    "].mean(\n",
    "    axis=\"columns\"\n",
    ")"
   ]
  },
  {
   "cell_type": "code",
   "execution_count": null,
   "metadata": {},
   "outputs": [],
   "source": [
    "df[\"Cell age\"] = df[\"Cell age\"].map(\n",
    "    {\n",
    "        18:18,\n",
    "        19:18, \n",
    "        25:25,\n",
    "        26:25,\n",
    "        32:32,\n",
    "        33:32,\n",
    "    }\n",
    ")"
   ]
  },
  {
   "cell_type": "code",
   "execution_count": null,
   "metadata": {},
   "outputs": [],
   "source": [
    "df.isnull().mean()"
   ]
  },
  {
   "cell_type": "markdown",
   "metadata": {},
   "source": [
    "#### oldfish is in here twice as \"Transcript-Protein\""
   ]
  },
  {
   "cell_type": "code",
   "execution_count": null,
   "metadata": {},
   "outputs": [],
   "source": [
    "assert all(df[df.Dataset == \"Transcript-Protein\"][\n",
    "    [\"napariCell_ObjectNumber\", \"fov_path\"]\n",
    "].drop_duplicates().reset_index(drop=True) == df[df.Dataset == \"ACTN_OldFish\"][\n",
    "    [\"napariCell_ObjectNumber\", \"fov_path\"]\n",
    "].drop_duplicates().reset_index(drop=True))"
   ]
  },
  {
   "cell_type": "code",
   "execution_count": null,
   "metadata": {},
   "outputs": [],
   "source": [
    "df = df.drop(df[df.Dataset == \"Transcript-Protein\"].index).reset_index(drop=True)"
   ]
  },
  {
   "cell_type": "code",
   "execution_count": null,
   "metadata": {},
   "outputs": [],
   "source": [
    "assert len(df) == len(df[[\"napariCell_ObjectNumber\", \"fov_path\"]].drop_duplicates().reset_index(drop=True))"
   ]
  },
  {
   "cell_type": "markdown",
   "metadata": {},
   "source": [
    "## Fit regression on old FISH data to predict on all others"
   ]
  },
  {
   "cell_type": "code",
   "execution_count": null,
   "metadata": {},
   "outputs": [],
   "source": [
    "df_old = df[df.Dataset==\"OldFish\"].copy()\n",
    "\n",
    "all_good_scores = (df_old.kg_structure_org_score > 0) & (df_old.mh_structure_org_score > 0)\n",
    "df_old = df_old[all_good_scores]\n",
    "df_old.shape"
   ]
  },
  {
   "cell_type": "code",
   "execution_count": null,
   "metadata": {},
   "outputs": [],
   "source": [
    "from sklearn.preprocessing import StandardScaler\n",
    "\n",
    "feat_cols = [c for c in BAR_PLOT_COLUMNS if c in df.columns]\n",
    "\n",
    "df_reg = df_old[feat_cols+['Expert structural annotation score (mean)']].copy()\n",
    "\n",
    "scaler = StandardScaler()\n",
    "scaler.fit(df_reg[feat_cols])\n",
    "\n",
    "df_reg[feat_cols] = scaler.transform(df_reg[feat_cols])"
   ]
  },
  {
   "cell_type": "markdown",
   "metadata": {},
   "source": [
    "### Define regression procedure"
   ]
  },
  {
   "cell_type": "code",
   "execution_count": null,
   "metadata": {},
   "outputs": [],
   "source": [
    "from sklearn import linear_model\n",
    "from sklearn.ensemble import RandomForestRegressor\n",
    "\n",
    "def make_regression(\n",
    "    scaled_data=pd.DataFrame(),\n",
    "    y_col='Expert structural annotation score (mean)',\n",
    "    X_cols=feat_cols,\n",
    "    weight_y=True,\n",
    "    alpha=0.001,\n",
    "):\n",
    "    X = scaled_data[X_cols]        \n",
    "    y = scaled_data[y_col]\n",
    "\n",
    "    if weight_y:\n",
    "        class_weights = {\n",
    "            v: len(y) / c for v, c in zip(*np.unique(y, return_counts=True))\n",
    "        }\n",
    "        sample_weights = scaled_data[y_col].map(class_weights)\n",
    "    else:\n",
    "        sample_weights = 1\n",
    "\n",
    "    reg = linear_model.Ridge(alpha=alpha)\n",
    "    reg.fit(X, y, sample_weight=sample_weights)\n",
    "    \n",
    "    return reg\n",
    "\n",
    "\n",
    "def make_regression_rf(\n",
    "    scaled_data=pd.DataFrame(),\n",
    "    y_col='Expert structural annotation score (mean)',\n",
    "    X_cols=feat_cols,\n",
    "    weight_y=True,\n",
    "    **rf_kwargs,\n",
    "):\n",
    "    X = scaled_data[X_cols]        \n",
    "    y = scaled_data[y_col]\n",
    "\n",
    "    if weight_y:\n",
    "        class_weights = {\n",
    "            v: len(y) / c for v, c in zip(*np.unique(y, return_counts=True))\n",
    "        }\n",
    "        sample_weights = scaled_data[y_col].map(class_weights)\n",
    "    else:\n",
    "        sample_weights = 1\n",
    "\n",
    "    reg = RandomForestRegressor(**rf_kwargs)\n",
    "    reg.fit(X, y, sample_weight=sample_weights)\n",
    "    \n",
    "    return reg"
   ]
  },
  {
   "cell_type": "markdown",
   "metadata": {},
   "source": [
    "### Predict COS for all cells"
   ]
  },
  {
   "cell_type": "code",
   "execution_count": null,
   "metadata": {},
   "outputs": [],
   "source": [
    "reg = make_regression(df_reg)\n",
    "df[\"Combined organizational score\"] = reg.predict(scaler.transform(df[feat_cols]))"
   ]
  },
  {
   "cell_type": "markdown",
   "metadata": {},
   "source": [
    "### Check predictions"
   ]
  },
  {
   "cell_type": "code",
   "execution_count": null,
   "metadata": {},
   "outputs": [],
   "source": [
    "df_expert = df[\n",
    "    (df.kg_structure_org_score > 0) & (df.mh_structure_org_score > 0)\n",
    "][\n",
    "    [\n",
    "        \"kg_structure_org_score\",\n",
    "        \"mh_structure_org_score\",\n",
    "        'Expert structural annotation score (mean)',\n",
    "        'Combined organizational score',\n",
    "        \"Dataset\",\n",
    "        'Cell age',\n",
    "    ]\n",
    "]\n",
    "df_expert['Combined organizational score (rounded)'] = np.round(np.clip(df_expert['Combined organizational score'], 1,5))\n",
    "\n",
    "df_expert_melt = df_expert.melt(\n",
    "    value_vars=[\"kg_structure_org_score\", \"mh_structure_org_score\"],\n",
    "    id_vars=[c for c in df_expert.columns if c not in [\"kg_structure_org_score\", \"mh_structure_org_score\"]],\n",
    "    var_name=\"Expert annotator\",\n",
    "    value_name=\"Expert score\"\n",
    ")\n",
    "df_expert_melt[\"Expert annotator\"] = df_expert_melt[\"Expert annotator\"].apply(lambda x: x.split(\"_\")[0])\n",
    "df_expert_melt[\"Expert score\"].unique()\n",
    "\n",
    "assert np.all(sorted(df_expert_melt[\"Expert score\"].unique()) == np.array([1,2,3,4,5]))\n",
    "assert np.all(sorted(df_expert[\"kg_structure_org_score\"].unique()) == np.array([1,2,3,4,5]))\n",
    "assert np.all(sorted(df_expert[\"mh_structure_org_score\"].unique()) == np.array([1,2,3,4,5]))"
   ]
  },
  {
   "cell_type": "code",
   "execution_count": null,
   "metadata": {},
   "outputs": [],
   "source": [
    "g = sns.FacetGrid(\n",
    "    data=df_expert_melt.sample(frac=1, replace=False).reset_index(drop=True),\n",
    "    col=\"Dataset\",\n",
    "    hue=\"Cell age\",\n",
    "    hue_order=[18, 32],\n",
    "    palette=DAY_COLOR_PALETTE,\n",
    ")\n",
    "\n",
    "g = g.map(\n",
    "    sns.stripplot,\n",
    "    \"Expert score\",\n",
    "    \"Combined organizational score\",\n",
    "    order=[1,2,3,4,5],\n",
    "    alpha=0.2,\n",
    "    linewidth=0,\n",
    "    jitter=0.25,\n",
    "    s=3\n",
    ").add_legend()"
   ]
  },
  {
   "cell_type": "code",
   "execution_count": null,
   "metadata": {},
   "outputs": [],
   "source": [
    "df_corrs_exp_both_cos = df_expert_melt.groupby(\n",
    "    \"Dataset\"\n",
    ")[\n",
    "    [\n",
    "        \"Expert score\",\n",
    "        'Combined organizational score'\n",
    "    ]\n",
    "].corr(method=\"spearman\").drop(\n",
    "    columns=['Expert score']\n",
    ").rename_axis(\n",
    "    ['Dataset', 'column']\n",
    ").drop(\n",
    "    \"Combined organizational score\",\n",
    "    level='column'\n",
    ").reset_index(\n",
    ").drop(\n",
    "    columns=\"column\"\n",
    ").rename(columns={\"Combined organizational score\":\"Expert-COS correlation (both)\"})\n",
    "\n",
    "df_corrs_exp_mean_cos = df_expert.groupby(\n",
    "    \"Dataset\"\n",
    ")[\n",
    "    [\n",
    "        \"Expert structural annotation score (mean)\",\n",
    "        'Combined organizational score'\n",
    "    ]\n",
    "].corr(method=\"spearman\").drop(\n",
    "    columns=['Expert structural annotation score (mean)']\n",
    ").rename_axis(\n",
    "    ['Dataset', 'column']\n",
    ").drop(\n",
    "    \"Combined organizational score\",\n",
    "    level='column'\n",
    ").reset_index(\n",
    ").drop(\n",
    "    columns=\"column\"\n",
    ").rename(columns={\"Combined organizational score\":\"Expert-COS correlation (mean)\"})\n",
    "\n",
    "df_corrs_exp_exp = df_expert.groupby(\n",
    "    \"Dataset\"\n",
    ")[\n",
    "    [\n",
    "        \"kg_structure_org_score\",\n",
    "        \"mh_structure_org_score\"\n",
    "    ]\n",
    "].corr(method=\"spearman\").drop(\n",
    "    columns=['kg_structure_org_score']\n",
    ").rename_axis(\n",
    "    ['Dataset', 'column']\n",
    ").drop(\n",
    "    \"mh_structure_org_score\",\n",
    "    level='column'\n",
    ").reset_index(\n",
    ").drop(\n",
    "    columns=\"column\"\n",
    ").rename(columns={\"mh_structure_org_score\":\"Expert-Expert correlation\"})\n",
    "\n",
    "df_score_corrs = df_corrs_exp_exp.merge(df_corrs_exp_mean_cos).merge(df_corrs_exp_both_cos)\n",
    "df_score_corrs"
   ]
  },
  {
   "cell_type": "markdown",
   "metadata": {},
   "source": [
    "### expert-expert confusion matrix"
   ]
  },
  {
   "cell_type": "code",
   "execution_count": null,
   "metadata": {},
   "outputs": [],
   "source": [
    "from sklearn.metrics import confusion_matrix\n",
    "\n",
    "conf_mat = confusion_matrix(df_expert['kg_structure_org_score'], df_expert['mh_structure_org_score'])\n",
    "\n",
    "dims = (4, 4)\n",
    "fig, ax = plt.subplots(figsize=dims)\n",
    "conf_mat_plot = sns.heatmap(\n",
    "    conf_mat,\n",
    "    annot=True,\n",
    "    fmt=\"d\",\n",
    "    square=True,\n",
    "    cmap=\"Blues\",\n",
    "    vmin=0,\n",
    "    vmax=1000,\n",
    "    cbar=False,\n",
    ")\n",
    "\n",
    "conf_mat_plot.set(\n",
    "    xlabel='MH score',\n",
    "    ylabel='KG score',\n",
    ");\n",
    "conf_mat_plot.set_xticklabels([1,2,3,4,5])\n",
    "conf_mat_plot.set_yticklabels([1,2,3,4,5]);\n",
    "\n",
    "# save png and svg\n",
    "if SAVE:\n",
    "    plt.savefig(save_dir_pngs/'expert_expert_conf_mat.png', dpi=300, bbox_inches = \"tight\")\n",
    "    plt.savefig(save_dir_svgs/'expert_expert_conf_mat.svg', format=\"svg\", bbox_inches = \"tight\")"
   ]
  },
  {
   "cell_type": "code",
   "execution_count": null,
   "metadata": {},
   "outputs": [],
   "source": [
    "for dataset in df_expert.Dataset.unique():\n",
    "    conf_mat = confusion_matrix(\n",
    "        df_expert[df_expert.Dataset==dataset]['kg_structure_org_score'],\n",
    "        df_expert[df_expert.Dataset==dataset]['mh_structure_org_score']\n",
    "    )\n",
    "\n",
    "    dims = (4, 4)\n",
    "    fig, ax = plt.subplots(figsize=dims)\n",
    "    conf_mat_plot = sns.heatmap(\n",
    "        conf_mat,\n",
    "        annot=True,\n",
    "        fmt=\"d\",\n",
    "        square=True,\n",
    "        cmap=\"Blues\",\n",
    "        vmin=0,\n",
    "        vmax=1000,\n",
    "        cbar=False,\n",
    "    )\n",
    "\n",
    "    conf_mat_plot.set(\n",
    "        xlabel='MH score',\n",
    "        ylabel='KG score',\n",
    "    );\n",
    "    conf_mat_plot.set_xticklabels([1,2,3,4,5])\n",
    "    conf_mat_plot.set_yticklabels([1,2,3,4,5]);\n",
    "\n",
    "    # save png and svg\n",
    "    if SAVE:\n",
    "        plt.savefig(save_dir_pngs/f\"expert_expert_conf_mat_{dataset}.png\", dpi=300, bbox_inches = \"tight\")\n",
    "        plt.savefig(save_dir_svgs/f\"expert_expert_conf_mat_{dataset}.svg\", format=\"svg\", bbox_inches = \"tight\")"
   ]
  },
  {
   "cell_type": "markdown",
   "metadata": {},
   "source": [
    "### expert (mean) - COS correlation matrix"
   ]
  },
  {
   "cell_type": "code",
   "execution_count": null,
   "metadata": {},
   "outputs": [],
   "source": [
    "half_int_rows = ~df_expert['Expert structural annotation score (mean)'].isin([1,2,3,4,5])\n",
    "\n",
    "df_expert['Expert structural annotation score (mean), random round up/down'] = df_expert['Expert structural annotation score (mean)'].copy()\n",
    "df_expert.loc[\n",
    "    half_int_rows,'Expert structural annotation score (mean), random round up/down'\n",
    "] = df_expert.loc[\n",
    "    half_int_rows,'Expert structural annotation score (mean), random round up/down'\n",
    "].apply(lambda x: int(x+np.random.rand()))"
   ]
  },
  {
   "cell_type": "code",
   "execution_count": null,
   "metadata": {},
   "outputs": [],
   "source": [
    "from sklearn.metrics import confusion_matrix\n",
    "\n",
    "conf_mat = confusion_matrix(\n",
    "    df_expert['Expert structural annotation score (mean), random round up/down'],\n",
    "    df_expert['Combined organizational score (rounded)']\n",
    ")\n",
    "\n",
    "dims = (4, 4)\n",
    "fig, ax = plt.subplots(figsize=dims)\n",
    "conf_mat_plot = sns.heatmap(\n",
    "    conf_mat,\n",
    "    annot=True,\n",
    "    fmt=\"d\",\n",
    "    square=True,\n",
    "    cmap=\"Blues\",\n",
    "    vmin=0,\n",
    "    vmax=1000,\n",
    "    cbar=False,\n",
    ")\n",
    "\n",
    "conf_mat_plot.set(\n",
    "    xlabel='Combined organizational score (rounded)',\n",
    "    ylabel='Expert score (mean)',\n",
    ");\n",
    "conf_mat_plot.set_xticklabels([1,2,3,4,5])\n",
    "conf_mat_plot.set_yticklabels([1,2,3,4,5]);\n",
    "\n",
    "# save png and svg\n",
    "if SAVE:\n",
    "    plt.savefig(save_dir_pngs/'expert_mean_COS_conf_mat.png', dpi=300, bbox_inches = \"tight\")\n",
    "    plt.savefig(save_dir_svgs/'expert_mean_COS_conf_mat.svg', format=\"svg\", bbox_inches = \"tight\")"
   ]
  },
  {
   "cell_type": "code",
   "execution_count": null,
   "metadata": {},
   "outputs": [],
   "source": [
    "for dataset in df_expert.Dataset.unique():\n",
    "\n",
    "    conf_mat = confusion_matrix(\n",
    "        df_expert[df_expert.Dataset==dataset]['Expert structural annotation score (mean), random round up/down'],\n",
    "        df_expert[df_expert.Dataset==dataset]['Combined organizational score (rounded)']\n",
    "    )\n",
    "\n",
    "    dims = (4, 4)\n",
    "    fig, ax = plt.subplots(figsize=dims)\n",
    "    conf_mat_plot = sns.heatmap(\n",
    "        conf_mat,\n",
    "        annot=True,\n",
    "        fmt=\"d\",\n",
    "        square=True,\n",
    "        cmap=\"Blues\",\n",
    "        vmin=0,\n",
    "        vmax=1000,\n",
    "        cbar=False,\n",
    "    )\n",
    "\n",
    "    conf_mat_plot.set(\n",
    "        xlabel='Combined organizational score (rounded)',\n",
    "        ylabel='Expert score (mean)',\n",
    "    );\n",
    "    conf_mat_plot.set_xticklabels([1,2,3,4,5])\n",
    "    conf_mat_plot.set_yticklabels([1,2,3,4,5]);\n",
    "\n",
    "    # save png and svg\n",
    "    if SAVE:\n",
    "        plt.savefig(save_dir_pngs/f\"expert_mean_COS_conf_mat_{dataset}.png\", dpi=300, bbox_inches = \"tight\")\n",
    "        plt.savefig(save_dir_svgs/f\"expert_mean_COS_conf_mat_{dataset}.svg\", format=\"svg\", bbox_inches = \"tight\")"
   ]
  },
  {
   "cell_type": "markdown",
   "metadata": {},
   "source": [
    "### expert (both) - COS confustion matrix"
   ]
  },
  {
   "cell_type": "code",
   "execution_count": null,
   "metadata": {},
   "outputs": [],
   "source": [
    "from sklearn.metrics import confusion_matrix\n",
    "\n",
    "conf_mat = confusion_matrix(\n",
    "    df_expert_melt['Expert score'],\n",
    "    df_expert_melt['Combined organizational score (rounded)']\n",
    ")\n",
    "\n",
    "dims = (4, 4)\n",
    "fig, ax = plt.subplots(figsize=dims)\n",
    "conf_mat_plot = sns.heatmap(\n",
    "    conf_mat,\n",
    "    annot=True,\n",
    "    fmt=\"d\",\n",
    "    square=True,\n",
    "    cmap=\"Blues\",\n",
    "    vmin=0,\n",
    "    vmax=1000,\n",
    "    cbar=False,\n",
    ")\n",
    "\n",
    "conf_mat_plot.set(\n",
    "    xlabel='Combined organizational score (rounded)',\n",
    "    ylabel='Expert score (both)',\n",
    ");\n",
    "conf_mat_plot.set_xticklabels([1,2,3,4,5])\n",
    "conf_mat_plot.set_yticklabels([1,2,3,4,5]);\n",
    "\n",
    "# save png and svg\n",
    "if SAVE:\n",
    "    plt.savefig(save_dir_pngs/'expert_both_COS_conf_mat.png', dpi=300, bbox_inches = \"tight\")\n",
    "    plt.savefig(save_dir_svgs/'expert_both_COS_conf_mat.svg', format=\"svg\", bbox_inches = \"tight\")"
   ]
  },
  {
   "cell_type": "code",
   "execution_count": null,
   "metadata": {},
   "outputs": [],
   "source": [
    "for dataset in df_expert.Dataset.unique():\n",
    "\n",
    "    conf_mat = confusion_matrix(\n",
    "        df_expert_melt[df_expert_melt.Dataset==dataset]['Expert score'],\n",
    "        df_expert_melt[df_expert_melt.Dataset==dataset]['Combined organizational score (rounded)']\n",
    "    )\n",
    "\n",
    "    dims = (4, 4)\n",
    "    fig, ax = plt.subplots(figsize=dims)\n",
    "    conf_mat_plot = sns.heatmap(\n",
    "        conf_mat,\n",
    "        annot=True,\n",
    "        fmt=\"d\",\n",
    "        square=True,\n",
    "        cmap=\"Blues\",\n",
    "        vmin=0,\n",
    "        vmax=1000,\n",
    "        cbar=False,\n",
    "    )\n",
    "\n",
    "    conf_mat_plot.set(\n",
    "        xlabel='Combined organizational score (rounded)',\n",
    "        ylabel='Expert score (both)',\n",
    "    );\n",
    "    conf_mat_plot.set_xticklabels([1,2,3,4,5])\n",
    "    conf_mat_plot.set_yticklabels([1,2,3,4,5]);\n",
    "\n",
    "    # save png and svg\n",
    "    if SAVE:\n",
    "        plt.savefig(save_dir_pngs/f\"expert_both_COS_conf_mat_{dataset}.png\", dpi=300, bbox_inches = \"tight\")\n",
    "        plt.savefig(save_dir_svgs/f\"expert_both_COS_conf_mat_{dataset}.svg\", format=\"svg\", bbox_inches = \"tight\")"
   ]
  },
  {
   "cell_type": "markdown",
   "metadata": {},
   "source": [
    "## Scatter / bar plots"
   ]
  },
  {
   "cell_type": "markdown",
   "metadata": {},
   "source": [
    "### cos vs transcript"
   ]
  },
  {
   "cell_type": "markdown",
   "metadata": {},
   "source": [
    "#### melt fish data for tidy plots"
   ]
  },
  {
   "cell_type": "code",
   "execution_count": null,
   "metadata": {},
   "outputs": [],
   "source": [
    "melt_feats = {\n",
    "    \"(count/μm^2)\" : [c for c in df.columns if c.endswith(\"(count/μm^2)\")]\n",
    "}\n",
    "\n",
    "melted_dfs = {\n",
    "    feat:df[df.Type == 'FISH'].melt(\n",
    "        id_vars=[c for c in df.columns if c not in cols],\n",
    "        value_vars=cols,\n",
    "        var_name=\"FISH probe\",\n",
    "        value_name=f\"FISH probe {feat}\",\n",
    "    ).dropna(\n",
    "        subset=[f\"FISH probe {feat}\"]\n",
    "    ).reset_index(\n",
    "        drop=True\n",
    "    )\n",
    "    for feat, cols in melt_feats.items()\n",
    "}\n",
    "\n",
    "for feat,v in melted_dfs.items():\n",
    "    melted_dfs[feat][\"FISH probe\"] = melted_dfs[feat][\"FISH probe\"].str.split().str.get(0)\n",
    "\n",
    "# TODO if counts make it back in will need to merge\n",
    "df_fish_tidy = melted_dfs[\"(count/μm^2)\"]"
   ]
  },
  {
   "cell_type": "code",
   "execution_count": null,
   "metadata": {},
   "outputs": [],
   "source": [
    "assert 2*len(df[df.Type == 'FISH']) == len(df_fish_tidy)"
   ]
  },
  {
   "cell_type": "markdown",
   "metadata": {},
   "source": [
    "## Plot FISH vs cos"
   ]
  },
  {
   "cell_type": "code",
   "execution_count": null,
   "metadata": {},
   "outputs": [],
   "source": [
    "DAY_18_COLOR = \"#0098EA\"\n",
    "DAY_25_COLOR = \"#f5c056\"\n",
    "DAY_32_COLOR = \"#FFB2FF\"\n",
    "DAY_COLORS = [DAY_18_COLOR, DAY_32_COLOR]\n",
    "DAY_COLOR_PALETTE = sns.color_palette(DAY_COLORS)\n",
    "DAY_COLORS_3 = [DAY_18_COLOR, DAY_25_COLOR, DAY_32_COLOR]\n",
    "DAY_COLOR_PALETTE_3 = sns.color_palette(DAY_COLORS_3)"
   ]
  },
  {
   "cell_type": "markdown",
   "metadata": {},
   "source": [
    "### Define bootstrap corr data wrabgling function for ebars on bar plots"
   ]
  },
  {
   "cell_type": "code",
   "execution_count": null,
   "metadata": {},
   "outputs": [],
   "source": [
    "def pack_complex_corr_col(arg_df, arg_col1, arg_col2, outcol=\"Corr\"):\n",
    "    arg_df[outcol] = arg_df.apply(\n",
    "        lambda row: np.complex(row[arg_col1], row[arg_col2]), axis=\"columns\"\n",
    "    )\n",
    "\n",
    "def spearman_on_complex_col(tuple_col):\n",
    "    return spearmanr(np.real(tuple_col), np.imag(tuple_col))[0]"
   ]
  },
  {
   "cell_type": "markdown",
   "metadata": {},
   "source": [
    "### scatter plots"
   ]
  },
  {
   "cell_type": "code",
   "execution_count": null,
   "metadata": {},
   "outputs": [],
   "source": [
    "g = sns.FacetGrid(\n",
    "    data=df_fish_tidy.sample(frac=1, replace=False).reset_index(drop=True),\n",
    "    col=\"FISH probe\",\n",
    "    col_order=PROBE_ORDER+['ACTN2', 'TTN'],\n",
    "    col_wrap=4,\n",
    "    hue=\"Cell age\",\n",
    "    hue_order=[18, 25, 32],\n",
    "    palette=DAY_COLOR_PALETTE_3,\n",
    "    sharex=True,\n",
    "    xlim=(1,5),\n",
    "    sharey=False,\n",
    "    height=3.0,\n",
    "    aspect=1.0,\n",
    ")\n",
    "\n",
    "g = g.map(\n",
    "    plt.scatter,\n",
    "    \"Combined organizational score\",\n",
    "    \"FISH probe (count/μm^2)\",\n",
    "    s=10,\n",
    "    alpha=0.5,\n",
    "    linewidth=0,\n",
    ").add_legend()\n",
    "\n",
    "g.set_titles(\"{col_name}\")\n",
    "\n",
    "sns.despine()\n",
    "\n",
    "# save png and svg\n",
    "if SAVE:\n",
    "    plt.savefig(save_dir_pngs/'fig_5a_probe_density_vs_org_score.png', dpi=300, bbox_inches = \"tight\")\n",
    "    plt.savefig(save_dir_svgs/'fig_5a_probe_density_vs_org_score.svg', format=\"svg\", bbox_inches = \"tight\")"
   ]
  },
  {
   "cell_type": "markdown",
   "metadata": {},
   "source": [
    "### bar plots"
   ]
  },
  {
   "cell_type": "code",
   "execution_count": null,
   "metadata": {},
   "outputs": [],
   "source": [
    "pack_complex_corr_col(\n",
    "    df_fish_tidy,\n",
    "    \"Combined organizational score\",\n",
    "    \"FISH probe (count/μm^2)\",\n",
    "    outcol=\"Corr(COS, probe density)\",\n",
    ")\n",
    "\n",
    "plt.figure(figsize=(16, 4))\n",
    "sns.barplot(\n",
    "    data=df_fish_tidy.dropna(subset=[\"Combined organizational score\", \"FISH probe (count/μm^2)\"]),\n",
    "    x=\"FISH probe\",\n",
    "    y=\"Corr(COS, probe density)\",\n",
    "    order=PROBE_ORDER+['ACTN2', 'TTN'],\n",
    "    hue=\"Cell age\",\n",
    "    hue_order=[18, 25, 32],\n",
    "    palette=DAY_COLOR_PALETTE_3,\n",
    "    estimator=spearman_on_complex_col,\n",
    "    n_boot=1000,\n",
    "    ci=95,\n",
    "    errwidth=1,\n",
    "    capsize=0.1,\n",
    ");\n",
    "sns.despine();\n",
    "plt.legend(title=\"Cell age\", bbox_to_anchor=(1.0, 0.7), frameon=False);\n",
    "\n",
    "# save png and svg\n",
    "if SAVE:\n",
    "    plt.savefig(save_dir_pngs/'fig_5b_probe_density_vs_org_score_by_day.png', dpi=300, bbox_inches = \"tight\")"
   ]
  },
  {
   "cell_type": "code",
   "execution_count": null,
   "metadata": {},
   "outputs": [],
   "source": [
    "plt.figure(figsize=(16, 4))\n",
    "sns.barplot(\n",
    "    data=df_fish_tidy.dropna(subset=[\"Combined organizational score\", \"FISH probe (count/μm^2)\"]),\n",
    "    x=\"FISH probe\",\n",
    "    y=\"Corr(COS, probe density)\",\n",
    "    order=PROBE_ORDER+['ACTN2', 'TTN'],\n",
    "    color=\"grey\",\n",
    "    estimator=spearman_on_complex_col,\n",
    "    n_boot=1000,\n",
    "    ci=95,\n",
    "    errwidth=1,\n",
    "    capsize=0.1,\n",
    ");\n",
    "sns.despine();\n",
    "\n",
    "# save png and svg\n",
    "if SAVE:\n",
    "    plt.savefig(save_dir_pngs/'fig_5b_probe_density_vs_org_score_all_days.png', dpi=300, bbox_inches = \"tight\")"
   ]
  },
  {
   "cell_type": "markdown",
   "metadata": {},
   "source": [
    "## All cells protein vs COS"
   ]
  },
  {
   "cell_type": "code",
   "execution_count": null,
   "metadata": {},
   "outputs": [],
   "source": [
    "df[\"alpha-actinin protein intensity (density)\"] = df[\n",
    "    \"alpha-actinin protein intensity (sum)\"\n",
    "]/df[\"Cell area (μm^2)\"]\n",
    "df[\"alpha-actinin protein intensity (density, background subtracted)\"] = df[\n",
    "    \"alpha-actinin protein intensity (sum, background subtracted)\"\n",
    "]/df[\"Cell area (μm^2)\"]"
   ]
  },
  {
   "cell_type": "markdown",
   "metadata": {},
   "source": [
    "### Check which protein metric is best overall"
   ]
  },
  {
   "cell_type": "code",
   "execution_count": null,
   "metadata": {},
   "outputs": [],
   "source": [
    "df.groupby([\"Dataset\", \"Cell age\",]).corr(\n",
    "    method=\"spearman\"\n",
    ").filter(\n",
    "    [c for c in df.columns if \"alpha-actinin\" in c]\n",
    ").rename_axis(\n",
    "        [\"Dataset\", \"Cell age\", \"feature\"]\n",
    ").reset_index(\n",
    ").query(\n",
    "    'feature == \"Combined organizational score\"'\n",
    ").dropna()"
   ]
  },
  {
   "cell_type": "markdown",
   "metadata": {},
   "source": [
    "### COS vs protein density (all cells)"
   ]
  },
  {
   "cell_type": "code",
   "execution_count": null,
   "metadata": {},
   "outputs": [],
   "source": [
    "g = sns.FacetGrid(\n",
    "    data=df.dropna(subset=[\"alpha-actinin protein intensity (sum, background subtracted)\"]).sample(frac=1, replace=False).reset_index(drop=True),\n",
    "    col=\"Dataset\",\n",
    "    col_order=sorted(df.dropna(subset=[\"alpha-actinin protein intensity (sum)\"]).Dataset.unique()),\n",
    "    col_wrap=2,\n",
    "    hue=\"Cell age\",\n",
    "    hue_order=[18, 25, 32],\n",
    "    palette=DAY_COLOR_PALETTE_3,\n",
    "    sharex=True,\n",
    "    xlim=(1,5),\n",
    "    sharey=False,\n",
    "    height=3.0,\n",
    "    aspect=1.0,\n",
    ")\n",
    "g.map(\n",
    "    sns.scatterplot,\n",
    "    \"Combined organizational score\",\n",
    "    \"alpha-actinin protein intensity (density, background subtracted)\",\n",
    "    s=10,\n",
    "    alpha=0.5,\n",
    "    linewidth=0,\n",
    ");\n",
    "\n",
    "g.set_axis_labels(y_var=\"Protein density\")\n",
    "\n",
    "# save png and svg\n",
    "if SAVE:\n",
    "    plt.savefig(save_dir_pngs/'fish_plus_live_protein_vs_org_score.png', dpi=300, bbox_inches = \"tight\")"
   ]
  },
  {
   "cell_type": "code",
   "execution_count": null,
   "metadata": {},
   "outputs": [],
   "source": [
    "pack_complex_corr_col(\n",
    "    df,\n",
    "    \"Combined organizational score\",\n",
    "    \"alpha-actinin protein intensity (sum, background subtracted)\",\n",
    "    outcol=\"Corr(Protein, COS)\",\n",
    ")\n",
    "\n",
    "plt.figure(figsize=(4,3))\n",
    "sns.barplot(\n",
    "    data=df.dropna(subset=[\"Combined organizational score\", \"alpha-actinin protein intensity (sum, background subtracted)\"]),\n",
    "    x=\"Dataset\",\n",
    "    y=\"Corr(Protein, COS)\",\n",
    "    hue=\"Cell age\",\n",
    "    hue_order=[18, 25, 32],\n",
    "    palette=DAY_COLOR_PALETTE_3,\n",
    "    estimator=spearman_on_complex_col,\n",
    "    n_boot=1000,\n",
    "    ci=95,\n",
    "    errwidth=1,\n",
    "    capsize=0.1,\n",
    ");\n",
    "sns.despine();\n",
    "plt.legend(title=\"Cell age\", bbox_to_anchor=(1.0, 0.7), frameon=False);\n",
    "\n",
    "# save png and svg\n",
    "if SAVE:\n",
    "    plt.savefig(save_dir_pngs/'fish_plus_live_protein_vs_org_score_corrs.png', dpi=300, bbox_inches = \"tight\")"
   ]
  },
  {
   "cell_type": "markdown",
   "metadata": {},
   "source": [
    "## just ACTN2 cells"
   ]
  },
  {
   "cell_type": "code",
   "execution_count": null,
   "metadata": {},
   "outputs": [],
   "source": [
    "df_actn2_reps = df[df.Dataset.isin(['ACTN_OldFish', 'ACTN_NewFish'])].copy().reset_index(drop=True)"
   ]
  },
  {
   "cell_type": "markdown",
   "metadata": {},
   "source": [
    "### transcript-COS"
   ]
  },
  {
   "cell_type": "code",
   "execution_count": null,
   "metadata": {},
   "outputs": [],
   "source": [
    "g = sns.FacetGrid(\n",
    "    data=df_actn2_reps,\n",
    "    col=\"replate_date\",\n",
    "    col_order=sorted(df_actn2_reps.replate_date.unique()),\n",
    "    hue=\"Dataset\",\n",
    "    hue_order=sorted(df_actn2_reps.Dataset.unique()),\n",
    "    sharex=True,\n",
    "    sharey=True,\n",
    "    height=3.0,\n",
    "    aspect=1.0,\n",
    ")\n",
    "g.map(\n",
    "    sns.scatterplot,\n",
    "    \"Combined organizational score\",\n",
    "    \"ACTN2 (count/μm^2)\",\n",
    "    s=10,\n",
    "    alpha=0.75,\n",
    "    linewidth=0,\n",
    ");\n",
    "\n",
    "g.add_legend()\n",
    "sns.despine();\n",
    "\n",
    "# save png and svg\n",
    "if SAVE:\n",
    "    plt.savefig(save_dir_pngs/'actn2_only_transcript_vs_org_score_by_replate.png', dpi=300, bbox_inches = \"tight\")"
   ]
  },
  {
   "cell_type": "code",
   "execution_count": null,
   "metadata": {},
   "outputs": [],
   "source": [
    "pack_complex_corr_col(\n",
    "    df_actn2_reps,\n",
    "    \"Combined organizational score\",\n",
    "    \"ACTN2 (count/μm^2)\",\n",
    "    outcol=\"Corr(COS, transcript density)\",\n",
    ")\n",
    "\n",
    "plt.figure(figsize=(4,3))\n",
    "sns.barplot(\n",
    "    data=df_actn2_reps,\n",
    "    x=\"replate_date\",\n",
    "    order=sorted(df_actn2_reps.replate_date.unique()),\n",
    "    y=\"Corr(COS, transcript density)\",\n",
    "    hue=\"Dataset\",\n",
    "    hue_order=sorted(df_actn2_reps.Dataset.unique()),\n",
    "    estimator=spearman_on_complex_col,\n",
    "    n_boot=1000,\n",
    "    ci=95,\n",
    "    errwidth=1,\n",
    "    capsize=0.1,\n",
    ");\n",
    "g.add_legend()\n",
    "sns.despine();\n",
    "plt.legend(title=\"Dataset\", bbox_to_anchor=(1.0, 0.7), frameon=False);\n",
    "\n",
    "# save png and svg\n",
    "if SAVE:\n",
    "    plt.savefig(save_dir_pngs/'actn2_only_transcript_vs_org_score_by_replate_corr.png', dpi=300, bbox_inches = \"tight\")"
   ]
  },
  {
   "cell_type": "markdown",
   "metadata": {},
   "source": [
    "### protein-COS"
   ]
  },
  {
   "cell_type": "code",
   "execution_count": null,
   "metadata": {},
   "outputs": [],
   "source": [
    "g = sns.FacetGrid(\n",
    "    data=df_actn2_reps,\n",
    "    col=\"replate_date\",\n",
    "    col_order=sorted(df_actn2_reps.replate_date.unique()),\n",
    "    hue=\"Dataset\",\n",
    "    hue_order=sorted(df_actn2_reps.Dataset.unique()),\n",
    "    sharex=True,\n",
    "    sharey=True,\n",
    "    height=3.0,\n",
    "    aspect=1.0,\n",
    ")\n",
    "g.map(\n",
    "    sns.scatterplot,\n",
    "    \"Combined organizational score\",\n",
    "    \"alpha-actinin protein intensity (density, background subtracted)\",\n",
    "    s=10,\n",
    "    alpha=0.75,\n",
    "    linewidth=0,\n",
    ");\n",
    "\n",
    "g.set_axis_labels(y_var=\"Protein density\")\n",
    "g.add_legend()\n",
    "sns.despine();\n",
    "\n",
    "# save png and svg\n",
    "if SAVE:\n",
    "    plt.savefig(save_dir_pngs/'actn2_only_protein_vs_org_score_by_replate.png', dpi=300, bbox_inches = \"tight\")"
   ]
  },
  {
   "cell_type": "code",
   "execution_count": null,
   "metadata": {},
   "outputs": [],
   "source": [
    "pack_complex_corr_col(\n",
    "    df_actn2_reps,\n",
    "    \"Combined organizational score\",\n",
    "    \"alpha-actinin protein intensity (density, background subtracted)\",\n",
    "    outcol=\"Corr(COS, protein density)\",\n",
    ")\n",
    "\n",
    "plt.figure(figsize=(4,3))\n",
    "sns.barplot(\n",
    "    data=df_actn2_reps,\n",
    "    x=\"replate_date\",\n",
    "    order=sorted(df_actn2_reps.replate_date.unique()),\n",
    "    y=\"Corr(COS, protein density)\",\n",
    "    hue=\"Dataset\",\n",
    "    hue_order=sorted(df_actn2_reps.Dataset.unique()),\n",
    "    estimator=spearman_on_complex_col,\n",
    "    n_boot=1000,\n",
    "    ci=95,\n",
    "    errwidth=1,\n",
    "    capsize=0.1,\n",
    ");\n",
    "g.add_legend()\n",
    "sns.despine();\n",
    "plt.legend(title=\"Dataset\", bbox_to_anchor=(1.0, 0.7), frameon=False);\n",
    "\n",
    "# save png and svg\n",
    "if SAVE:\n",
    "    plt.savefig(save_dir_pngs/'actn2_only_protein_vs_org_score_by_replate_corr.png', dpi=300, bbox_inches = \"tight\")"
   ]
  },
  {
   "cell_type": "markdown",
   "metadata": {},
   "source": [
    "### protein-transcript"
   ]
  },
  {
   "cell_type": "code",
   "execution_count": null,
   "metadata": {},
   "outputs": [],
   "source": [
    "g = sns.FacetGrid(\n",
    "    data=df_actn2_reps,\n",
    "    col=\"replate_date\",\n",
    "    col_order=sorted(df_actn2_reps.replate_date.unique()),\n",
    "    hue=\"Dataset\",\n",
    "    hue_order=sorted(df_actn2_reps.Dataset.unique()),\n",
    "    sharex=True,\n",
    "    sharey=True,\n",
    "    height=3.0,\n",
    "    aspect=1.0,\n",
    ")\n",
    "g.map(\n",
    "    sns.scatterplot,\n",
    "    \"alpha-actinin protein intensity (density, background subtracted)\",\n",
    "    \"ACTN2 (count/μm^2)\",\n",
    "    s=10,\n",
    "    alpha=0.75,\n",
    "    linewidth=0,\n",
    ");\n",
    "g.set_axis_labels(x_var=\"Protein density\")\n",
    "g.add_legend()\n",
    "sns.despine();\n",
    "\n",
    "# save png and svg\n",
    "if SAVE:\n",
    "    plt.savefig(save_dir_pngs/'actn2_only_protein_vs_transcript_replate.png', dpi=300, bbox_inches = \"tight\")"
   ]
  },
  {
   "cell_type": "code",
   "execution_count": null,
   "metadata": {},
   "outputs": [],
   "source": [
    "pack_complex_corr_col(\n",
    "    df_actn2_reps,\n",
    "    \"ACTN2 (count/μm^2)\",\n",
    "    \"alpha-actinin protein intensity (density, background subtracted)\",\n",
    "    outcol=\"Corr(transcript density, protein density)\",\n",
    ")\n",
    "\n",
    "plt.figure(figsize=(4,3))\n",
    "sns.barplot(\n",
    "    data=df_actn2_reps,\n",
    "    x=\"replate_date\",\n",
    "    order=sorted(df_actn2_reps.replate_date.unique()),\n",
    "    y=\"Corr(transcript density, protein density)\",\n",
    "    hue=\"Dataset\",\n",
    "    hue_order=sorted(df_actn2_reps.Dataset.unique()),\n",
    "    estimator=spearman_on_complex_col,\n",
    "    n_boot=1000,\n",
    "    ci=95,\n",
    "    errwidth=1,\n",
    "    capsize=0.1,\n",
    ");\n",
    "g.add_legend()\n",
    "sns.despine();\n",
    "plt.legend(title=\"Dataset\", bbox_to_anchor=(1.0, 0.7), frameon=False);\n",
    "\n",
    "# save png and svg\n",
    "if SAVE:\n",
    "    plt.savefig(save_dir_pngs/'actn2_only_protein_vs_transcript_by_replate_corr.png', dpi=300, bbox_inches = \"tight\")"
   ]
  },
  {
   "cell_type": "markdown",
   "metadata": {},
   "source": [
    "## Direct replicates"
   ]
  },
  {
   "cell_type": "code",
   "execution_count": null,
   "metadata": {},
   "outputs": [],
   "source": [
    "df_fish_tidy_reps = data=df_fish_tidy[\n",
    "    df_fish_tidy.Dataset==\"ACTN_NewFish\"\n",
    "]"
   ]
  },
  {
   "cell_type": "code",
   "execution_count": null,
   "metadata": {},
   "outputs": [],
   "source": [
    "g = sns.FacetGrid(\n",
    "    data=df_fish_tidy_reps.sample(frac=1, replace=False).reset_index(drop=True),\n",
    "    col=\"FISH probe\",\n",
    "    col_order=['MYH6', 'MYH7', 'ACTN2', 'TTN'],\n",
    "    hue=\"replate_date\",\n",
    "    hue_order=sorted(df_fish_tidy_reps.replate_date.unique()),\n",
    "    palette=\"Set2\",\n",
    "    sharex=True,\n",
    "    xlim=(1,5),\n",
    "    sharey=False,\n",
    "    height=3.0,\n",
    "    aspect=1.0,\n",
    ")\n",
    "\n",
    "g = g.map(\n",
    "    plt.scatter,\n",
    "    \"Combined organizational score\",\n",
    "    \"FISH probe (count/μm^2)\",\n",
    "    s=10,\n",
    "    alpha=0.75,\n",
    "    linewidth=0,\n",
    ").add_legend()\n",
    "\n",
    "g.set_titles(\"{col_name}\")\n",
    "\n",
    "sns.despine()\n",
    "\n",
    "# save png and svg\n",
    "if SAVE:\n",
    "    plt.savefig(save_dir_pngs/'d25_replicates_probe_density_vs_org_score.png', dpi=300, bbox_inches = \"tight\")"
   ]
  },
  {
   "cell_type": "code",
   "execution_count": null,
   "metadata": {},
   "outputs": [],
   "source": [
    "sns.catplot(\n",
    "    kind=\"violin\",\n",
    "    split=True,\n",
    "    data=df_fish_tidy_reps,\n",
    "    x=\"FISH probe\",\n",
    "    order=['MYH6', 'MYH7', 'ACTN2', 'TTN'],\n",
    "    y=\"FISH probe (count/μm^2)\",\n",
    "    hue=\"replate_date\",\n",
    "    hue_order=sorted(df_fish_tidy_reps.replate_date.unique()),\n",
    "    palette=\"Set2\",\n",
    "    height=3,\n",
    "    aspect=2,\n",
    ")\n",
    "sns.despine()\n",
    "\n",
    "# save png and svg\n",
    "if SAVE:\n",
    "    plt.savefig(save_dir_pngs/'d25_replicates_probe_density_violins.png', dpi=300, bbox_inches = \"tight\")"
   ]
  },
  {
   "cell_type": "code",
   "execution_count": null,
   "metadata": {},
   "outputs": [],
   "source": [
    "sns.catplot(\n",
    "    kind=\"violin\",\n",
    "    split=True,\n",
    "    data=df_fish_tidy_reps,\n",
    "    x=\"FISH probe\",\n",
    "    order=['MYH6', 'MYH7', 'ACTN2', 'TTN'],\n",
    "    y=\"Combined organizational score\",\n",
    "    hue=\"replate_date\",\n",
    "    hue_order=sorted(df_fish_tidy_reps.replate_date.unique()),\n",
    "    palette=\"Set2\",\n",
    "    height=3,\n",
    "    aspect=2,\n",
    ")\n",
    "\n",
    "sns.despine()\n",
    "\n",
    "# save png and svg\n",
    "if SAVE:\n",
    "    plt.savefig(save_dir_pngs/'d25_replicates_org_score_violins.png', dpi=300, bbox_inches = \"tight\")"
   ]
  },
  {
   "cell_type": "code",
   "execution_count": null,
   "metadata": {},
   "outputs": [],
   "source": [
    "pack_complex_corr_col(\n",
    "    df_fish_tidy_reps,\n",
    "    \"Combined organizational score\",\n",
    "    \"FISH probe (count/μm^2)\",\n",
    "    outcol=\"Corr(Cos, transcript density)\",\n",
    ")\n",
    "\n",
    "plt.figure(figsize=(4,3))\n",
    "sns.barplot(\n",
    "    data=df_fish_tidy_reps,\n",
    "    x=\"FISH probe\",\n",
    "    order=['MYH6', 'MYH7', 'ACTN2', 'TTN'],\n",
    "    y=\"Corr(Cos, transcript density)\",\n",
    "    hue=\"replate_date\",\n",
    "    hue_order=sorted(df_fish_tidy_reps.replate_date.unique()),\n",
    "    palette=\"Set2\",\n",
    "    estimator=spearman_on_complex_col,\n",
    "    n_boot=1000,\n",
    "    ci=95,\n",
    "    errwidth=1,\n",
    "    capsize=0.1,\n",
    ");\n",
    "sns.despine();\n",
    "plt.legend(title=\"replate_date\", bbox_to_anchor=(1.0, 0.7), frameon=False);\n",
    "\n",
    "\n",
    "# # save png and svg\n",
    "# if SAVE:\n",
    "#     plt.savefig(save_dir_pngs/'d25_replicates_probe_density_vs_org_score_corrs.png', dpi=300, bbox_inches = \"tight\")"
   ]
  },
  {
   "cell_type": "markdown",
   "metadata": {},
   "source": [
    "## EDA distribution / ANOVA stuff"
   ]
  },
  {
   "cell_type": "markdown",
   "metadata": {},
   "source": [
    "### Live vs FISH in aggregate"
   ]
  },
  {
   "cell_type": "code",
   "execution_count": null,
   "metadata": {},
   "outputs": [],
   "source": [
    "g = sns.catplot(\n",
    "    data=df.melt(\n",
    "        id_vars=[c for c in df.columns if c not in feat_cols+[\"Combined organizational score\"]],\n",
    "        value_vars=feat_cols+[\"Combined organizational score\"],\n",
    "        var_name=\"Feature\"\n",
    "    ),\n",
    "    height=2.5,\n",
    "    aspect=1.25,\n",
    "    sharey=False,\n",
    "    kind=\"violin\",\n",
    "    linewidth=0.5,\n",
    "    split=True,\n",
    "    col=\"Feature\",\n",
    "    col_wrap=4,\n",
    "    x=\"Cell age\",\n",
    "    y='value',\n",
    "    hue='Type',\n",
    "    palette=\"Set2\",\n",
    ")\n",
    "\n",
    "# save png and svg\n",
    "if SAVE:\n",
    "    plt.savefig(save_dir_pngs/'all_features_violins_by_experiment_type.png', dpi=300, bbox_inches = \"tight\")\n",
    "    plt.savefig(save_dir_svgs/'all_features_violins_by_experiment_type.svg', format=\"svg\", bbox_inches = \"tight\")"
   ]
  },
  {
   "cell_type": "markdown",
   "metadata": {},
   "source": [
    "### COS by dataset and cell age"
   ]
  },
  {
   "cell_type": "code",
   "execution_count": null,
   "metadata": {},
   "outputs": [],
   "source": [
    "feature='Combined organizational score'\n",
    "\n",
    "g = sns.catplot(\n",
    "    data=df.rename(columns={\"ge_wellID\":\"Well ID\"}),\n",
    "    height=3,\n",
    "    aspect=1,\n",
    "    dodge=False,\n",
    "    sharex=False,\n",
    "    sharey=False,\n",
    "    kind=\"violin\",\n",
    "    inner=None,\n",
    "    linewidth=0.5,\n",
    "    col=\"Cell age\",\n",
    "    x=\"Dataset\",\n",
    "    y=feature,\n",
    "    hue=\"Dataset\",\n",
    "    hue_order=['OldFish', 'NewFish', 'Transcript-Protein', 'Live'],\n",
    ")\n",
    "\n",
    "for i, age in enumerate(sorted(df[\"Cell age\"].unique())):\n",
    "    sns.pointplot(\n",
    "        ax=g.axes[0,i],\n",
    "        data=df[df[\"Cell age\"]==age].rename(columns={\"ge_wellID\":\"Well ID\"}),\n",
    "        x=\"Dataset\",\n",
    "        y=feature,\n",
    "        color='black',\n",
    "        scale=0.5,\n",
    "        estimator=np.median,\n",
    "        ci=None,\n",
    "        join=False,\n",
    "    )\n",
    "\n",
    "\n",
    "plt.subplots_adjust(top=0.8)\n",
    "g.fig.suptitle('COS distribution across Datasets', x=\"0.5\");\n",
    "\n",
    "# save png and svg\n",
    "if SAVE:\n",
    "    plt.savefig(save_dir_pngs/'COS_violins_by_dataset.png', dpi=300, bbox_inches = \"tight\")\n",
    "    plt.savefig(save_dir_svgs/'COS_violins_by_dataset.svg', format=\"svg\", bbox_inches = \"tight\")"
   ]
  },
  {
   "cell_type": "code",
   "execution_count": null,
   "metadata": {},
   "outputs": [],
   "source": [
    "feature='Combined organizational score'\n",
    "\n",
    "g = sns.catplot(\n",
    "    data=df.rename(columns={\"ge_wellID\":\"Well ID\"}),\n",
    "    height=3,\n",
    "    aspect=1,\n",
    "    dodge=False,\n",
    "    sharex=False,\n",
    "    sharey=False,\n",
    "    kind=\"bar\",\n",
    "    ci=\"sd\",\n",
    "    errwidth=1,\n",
    "    capsize=0.5,\n",
    "    linewidth=1,\n",
    "    col=\"Cell age\",\n",
    "    x=\"Dataset\",\n",
    "    y=feature,\n",
    "    hue=\"Dataset\",\n",
    "    hue_order=['OldFish', 'NewFish', 'Transcript-Protein', 'Live'],\n",
    ")\n",
    "\n",
    "plt.subplots_adjust(top=0.8)\n",
    "g.fig.suptitle('COS distribution across Datasets', x=\"0.5\");\n",
    "\n",
    "# save png and svg\n",
    "if SAVE:\n",
    "    plt.savefig(save_dir_pngs/'COS_boxes_by_dataset.png', dpi=300, bbox_inches = \"tight\")\n",
    "    plt.savefig(save_dir_svgs/'COS_boxes_by_dataset.svg', format=\"svg\", bbox_inches = \"tight\")"
   ]
  },
  {
   "cell_type": "code",
   "execution_count": null,
   "metadata": {},
   "outputs": [],
   "source": [
    "df.groupby(\n",
    "    [\"Cell age\", 'Dataset']\n",
    ")[\n",
    "    'Combined organizational score'\n",
    "].agg(\n",
    "    ['median', 'mean', 'std']\n",
    ").round(\n",
    "    2\n",
    ").reset_index()"
   ]
  },
  {
   "cell_type": "code",
   "execution_count": null,
   "metadata": {},
   "outputs": [],
   "source": [
    "df[[\"Dataset\",\"ge_wellID\"]].drop_duplicates().merge(\n",
    "    df[\n",
    "        df[\"Cell age\"]==18\n",
    "    ].groupby(\n",
    "        ['ge_wellID']\n",
    "    )[\n",
    "        'Combined organizational score'\n",
    "    ].agg(\n",
    "        ['median', 'mean', 'std']\n",
    "    ).round(\n",
    "        2\n",
    "    ).reset_index(\n",
    "    )\n",
    ").sort_values(\n",
    "    \"mean\",\n",
    "    ascending=False\n",
    ")"
   ]
  },
  {
   "cell_type": "markdown",
   "metadata": {},
   "source": [
    "### COS across wells"
   ]
  },
  {
   "cell_type": "code",
   "execution_count": null,
   "metadata": {},
   "outputs": [],
   "source": [
    "feature='Combined organizational score'\n",
    "\n",
    "g = sns.catplot(\n",
    "    data=df.rename(columns={\"ge_wellID\":\"Well ID\"}),\n",
    "    height=2.5,\n",
    "    aspect=5,\n",
    "    dodge=False,\n",
    "    sharex=False,\n",
    "    sharey=False,\n",
    "    kind=\"violin\",\n",
    "    inner=None,\n",
    "    linewidth=0.5,\n",
    "    row=\"Cell age\",\n",
    "    x=\"Well ID\",\n",
    "    y=feature,\n",
    "    hue=\"Dataset\",\n",
    "    hue_order=['OldFish', 'NewFish', 'Transcript-Protein', 'Live'],\n",
    ")\n",
    "\n",
    "for i, age in enumerate(sorted(df[\"Cell age\"].unique())):\n",
    "    sns.pointplot(\n",
    "        ax=g.axes[i,0],\n",
    "        data=df[df[\"Cell age\"]==age].rename(columns={\"ge_wellID\":\"Well ID\"}),\n",
    "        x=\"Well ID\",\n",
    "        y=feature,\n",
    "        color='black',\n",
    "        scale=0.5,\n",
    "        estimator=np.median,\n",
    "        ci=None,\n",
    "        join=False,\n",
    "    )\n",
    "\n",
    "g.set(xticklabels=[])\n",
    "\n",
    "plt.subplots_adjust(top=0.9)\n",
    "g.fig.suptitle('COS distribution across wells', x=\"0.4\");\n",
    "\n",
    "# save png and svg\n",
    "if SAVE:\n",
    "    plt.savefig(save_dir_pngs/'COS_violins_by_well.png', dpi=300, bbox_inches = \"tight\")\n",
    "    plt.savefig(save_dir_svgs/'COS_violins_by_well.svg', format=\"svg\", bbox_inches = \"tight\")"
   ]
  },
  {
   "cell_type": "markdown",
   "metadata": {},
   "source": [
    "### COS across wells (colored by plate)"
   ]
  },
  {
   "cell_type": "code",
   "execution_count": null,
   "metadata": {},
   "outputs": [],
   "source": [
    "feature='Combined organizational score'\n",
    "\n",
    "g = sns.catplot(\n",
    "    data=df.rename(columns={\"ge_wellID\":\"Well ID\"}),\n",
    "    height=2.5,\n",
    "    aspect=5,\n",
    "    dodge=False,\n",
    "    sharex=False,\n",
    "    sharey=False,\n",
    "    kind=\"violin\",\n",
    "    inner=None,\n",
    "    linewidth=0.5,\n",
    "    row=\"Cell age\",\n",
    "    x=\"Well ID\",\n",
    "    y=feature,\n",
    "    hue=\"plate_name\",\n",
    ")\n",
    "\n",
    "for i, age in enumerate(sorted(df[\"Cell age\"].unique())):\n",
    "    sns.pointplot(\n",
    "        ax=g.axes[i,0],\n",
    "        data=df[df[\"Cell age\"]==age].rename(columns={\"ge_wellID\":\"Well ID\"}),\n",
    "        x=\"Well ID\",\n",
    "        y=feature,\n",
    "        color='black',\n",
    "        scale=0.5,\n",
    "        estimator=np.median,\n",
    "        ci=None,\n",
    "        join=False,\n",
    "    )\n",
    "\n",
    "g.set(xticklabels=[])\n",
    "\n",
    "plt.subplots_adjust(top=0.9)\n",
    "g.fig.suptitle('COS distribution across wells', x=\"0.45\");\n",
    "\n",
    "# save png and svg\n",
    "if SAVE:\n",
    "    plt.savefig(save_dir_pngs/'COS_violins_by_well_plate_color.png', dpi=300, bbox_inches = \"tight\")\n",
    "    plt.savefig(save_dir_svgs/'COS_violins_by_well_plate_color.svg', format=\"svg\", bbox_inches = \"tight\")"
   ]
  },
  {
   "cell_type": "markdown",
   "metadata": {},
   "source": [
    "### Cell area across wells"
   ]
  },
  {
   "cell_type": "markdown",
   "metadata": {},
   "source": [
    "## ANOVA"
   ]
  },
  {
   "cell_type": "markdown",
   "metadata": {},
   "source": [
    "### first look at cell age"
   ]
  },
  {
   "cell_type": "code",
   "execution_count": null,
   "metadata": {},
   "outputs": [],
   "source": [
    "pd.concat(\n",
    "    [\n",
    "        pg.anova(\n",
    "            data=df.rename(\n",
    "                columns={\n",
    "                    \"Cell age\":\"Cell_age\",\n",
    "                    'Combined organizational score':'Combined_organizational_score',\n",
    "                }\n",
    "            ),\n",
    "            dv='Combined_organizational_score',\n",
    "            between=between\n",
    "        ) for between in [\"Type\",\"Dataset\",\"Cell_age\",\"ge_wellID\"]\n",
    "    ]\n",
    ").reset_index(drop=True)"
   ]
  },
  {
   "cell_type": "markdown",
   "metadata": {},
   "source": [
    "### Now look within each age at each other variable"
   ]
  },
  {
   "cell_type": "code",
   "execution_count": null,
   "metadata": {},
   "outputs": [],
   "source": [
    "dfs_anova = []\n",
    "for between in [\"Type\",\"Dataset\",\"ge_wellID\"]:\n",
    "    for age in sorted(df[\"Cell age\"].unique()):\n",
    "        if len(df[df[\"Cell age\"]==age][between].drop_duplicates()) > 1:\n",
    "            df_anova = pg.anova(\n",
    "                data=df[df[\"Cell age\"]==age].rename(\n",
    "                    columns={\n",
    "                        \"Cell age\":\"Cell_age\",\n",
    "                        'Combined organizational score':'Combined_organizational_score',\n",
    "                    }\n",
    "                ),\n",
    "                dv='Combined_organizational_score',\n",
    "                between=between.replace(\" \", \"_\"),\n",
    "                detailed=True\n",
    "            )\n",
    "            df_anova[\"Cell age\"] = age\n",
    "            dfs_anova += [df_anova]\n",
    "    \n",
    "df_anova_within_age = pd.concat(dfs_anova).reset_index(drop=True)\n",
    "df_anova_within_age[df_anova_within_age.Source != \"Within\"]"
   ]
  },
  {
   "cell_type": "markdown",
   "metadata": {},
   "source": [
    "### Largest variance explained by factors is all in day 18, so look closer there"
   ]
  },
  {
   "cell_type": "markdown",
   "metadata": {},
   "source": [
    "#### variance explained by well when looking at all datasets in day 18"
   ]
  },
  {
   "cell_type": "code",
   "execution_count": null,
   "metadata": {},
   "outputs": [],
   "source": [
    "dfs_day_18_anova = []\n",
    "for dataset in df[df[\"Cell age\"]==18].Dataset.unique():\n",
    "    df_day_18_anova = pg.anova(\n",
    "        data=df[(df[\"Cell age\"]==18) & (df[\"Dataset\"]==dataset)].rename(\n",
    "            columns={\n",
    "                \"Cell age\":\"Cell_age\",\n",
    "                'Combined organizational score':'Combined_organizational_score',\n",
    "            }\n",
    "        ),\n",
    "        dv='Combined_organizational_score',\n",
    "        between=[\n",
    "            \"ge_wellID\",\n",
    "        ],\n",
    "        detailed=True\n",
    "    )\n",
    "    df_day_18_anova[\"Dataset\"] = dataset\n",
    "    dfs_day_18_anova += [df_day_18_anova]\n",
    "    \n",
    "df_within_day_18_anova = pd.concat(dfs_day_18_anova)\n",
    "df_within_day_18_anova[df_within_day_18_anova.Source!=\"Within\"].reset_index(drop=True)"
   ]
  },
  {
   "cell_type": "code",
   "execution_count": null,
   "metadata": {},
   "outputs": [],
   "source": [
    "dfs_homoscedasticity = []\n",
    "for group in [\"Type\",\"Dataset\",\"Cell age\",\"ge_wellID\"]:\n",
    "    df_homoscedasticity = pg.homoscedasticity(df, dv='Combined organizational score', group=group, method='levene')\n",
    "    df_homoscedasticity[\"group\"] = group\n",
    "    dfs_homoscedasticity += [df_homoscedasticity] \n",
    "df_homoscedasticity = pd.concat(dfs_homoscedasticity).reset_index(drop=True)\n",
    "df_homoscedasticity"
   ]
  },
  {
   "cell_type": "markdown",
   "metadata": {},
   "source": [
    "## split violin plots of paired fixed / live by replate_date"
   ]
  },
  {
   "cell_type": "code",
   "execution_count": null,
   "metadata": {},
   "outputs": [],
   "source": [
    "plate_matches_fish_live = {\n",
    "    5500000013:[5500000094, 5500000096],\n",
    "    5500000014:[5500000099],\n",
    "    5500000172:[5500000111, 5500000113],\n",
    "    5500000171:[5500000114]\n",
    "}\n",
    "\n",
    "df[\"matched_plates\"] = np.nan\n",
    "for i, (fish_plate, live_plates) in enumerate(plate_matches_fish_live.items()):\n",
    "    mdata = df[df.plate_name==fish_plate][[\"Cell age\", \"replate_date\"]].drop_duplicates().squeeze()\n",
    "    assert mdata.shape == (2,)\n",
    "    df.loc[df.plate_name==fish_plate, \"matched_plates\"] = f\"{mdata['replate_date']}_day_{mdata['Cell age']}\"\n",
    "    for live_plate in live_plates:\n",
    "        df.loc[df.plate_name==live_plate, \"matched_plates\"] = f\"{mdata['replate_date']}_day_{mdata['Cell age']}\""
   ]
  },
  {
   "cell_type": "code",
   "execution_count": null,
   "metadata": {},
   "outputs": [],
   "source": [
    "g = sns.catplot(\n",
    "    data=df.dropna(subset=[\"matched_plates\"]).rename(columns={\"replate_date\":\"Replate date\"}),\n",
    "    height=2.5,\n",
    "    aspect=1.25,\n",
    "    sharey=False,\n",
    "    kind=\"violin\",\n",
    "    linewidth=0.5,\n",
    "    split=True,\n",
    "    col=\"Replate date\",\n",
    "    x=\"Cell age\",\n",
    "    y=\"Combined organizational score\",\n",
    "    hue='Type',\n",
    "    palette=\"Set2\",\n",
    ")\n",
    "plt.subplots_adjust(top=0.8)\n",
    "g.fig.suptitle('Matched FISH/Live plates', x=\"0.5\");\n",
    "\n",
    "# save png and svg\n",
    "if SAVE:\n",
    "    plt.savefig(save_dir_pngs/'matched_fish_live_plates.png', dpi=300, bbox_inches = \"tight\")\n",
    "    plt.savefig(save_dir_svgs/'matched_fish_live_plates.svg', format=\"svg\", bbox_inches = \"tight\")"
   ]
  },
  {
   "cell_type": "code",
   "execution_count": null,
   "metadata": {},
   "outputs": [],
   "source": []
  }
 ],
 "metadata": {
  "kernelspec": {
   "display_name": "Python 3",
   "language": "python",
   "name": "python3"
  },
  "language_info": {
   "codemirror_mode": {
    "name": "ipython",
    "version": 3
   },
   "file_extension": ".py",
   "mimetype": "text/x-python",
   "name": "python",
   "nbconvert_exporter": "python",
   "pygments_lexer": "ipython3",
   "version": "3.7.8"
  }
 },
 "nbformat": 4,
 "nbformat_minor": 4
}
